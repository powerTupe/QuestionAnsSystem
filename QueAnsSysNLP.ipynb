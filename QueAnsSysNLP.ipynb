{
  "nbformat": 4,
  "nbformat_minor": 0,
  "metadata": {
    "colab": {
      "name": "QueAnsSysNLP.ipynb",
      "provenance": [],
      "collapsed_sections": [],
      "authorship_tag": "ABX9TyNJSk0c8LYgG3vhTnRrjH+j",
      "include_colab_link": true
    },
    "kernelspec": {
      "name": "python3",
      "display_name": "Python 3"
    },
    "language_info": {
      "name": "python"
    }
  },
  "cells": [
    {
      "cell_type": "markdown",
      "metadata": {
        "id": "view-in-github",
        "colab_type": "text"
      },
      "source": [
        "<a href=\"https://colab.research.google.com/github/powerTupe/QuestionAnsSystem/blob/main/QueAnsSysNLP.ipynb\" target=\"_parent\"><img src=\"https://colab.research.google.com/assets/colab-badge.svg\" alt=\"Open In Colab\"/></a>"
      ]
    },
    {
      "cell_type": "code",
      "metadata": {
        "id": "KbQZNilyZ5Wg"
      },
      "source": [
        "!pip install allennlp==1.0.0 allennlp-models==1.0.0\n"
      ],
      "execution_count": null,
      "outputs": []
    },
    {
      "cell_type": "code",
      "metadata": {
        "id": "9Ij3Hciwaku1"
      },
      "source": [
        "from allennlp.predictors.predictor import Predictor\n",
        "predictor = Predictor.from_path(\"https://storage.googleapis.com/allennlp-public-models/bidaf-model-2020.03.19.tar.gz\")\n"
      ],
      "execution_count": null,
      "outputs": []
    },
    {
      "cell_type": "code",
      "metadata": {
        "id": "d-X9AtH5azPj"
      },
      "source": [
        "passage = \"\"\"\n",
        "Maharashtra, the most affected state overall, has reported 67,160 new cases to take its tally to 4228836. The state has added 650,676 cases in the past 10 days. Kerala, the second-most-affected state by total tally, has added 26,685 cases to take its tally to 1377186.\"\"\""
      ],
      "execution_count": null,
      "outputs": []
    },
    {
      "cell_type": "code",
      "metadata": {
        "colab": {
          "base_uri": "https://localhost:8080/",
          "height": 35
        },
        "id": "r-81iHmKa39Q",
        "outputId": "a1eafa0b-dda1-4394-d2ed-c1f64fc14afe"
      },
      "source": [
        "# \"what is GDP growth rate of india?\"\n",
        "# \"how many political parties are there in india?\"\n",
        "# \"how are union territoris managed?\"\n",
        "# \"how many states are there in india?\"\n",
        "\n",
        "result=predictor.predict(\n",
        "  passage=passage,\n",
        "  question= \"how much case in maharashtra?\"\n",
        "  # \"how are union territoris managed?\"\n",
        ")\n",
        "result['best_span_str']"
      ],
      "execution_count": null,
      "outputs": [
        {
          "output_type": "execute_result",
          "data": {
            "application/vnd.google.colaboratory.intrinsic+json": {
              "type": "string"
            },
            "text/plain": [
              "'650,676 cases in the past 10 days'"
            ]
          },
          "metadata": {
            "tags": []
          },
          "execution_count": 14
        }
      ]
    }
  ]
}